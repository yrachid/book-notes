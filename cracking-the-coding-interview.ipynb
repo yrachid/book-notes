{
 "cells": [
  {
   "cell_type": "markdown",
   "metadata": {},
   "source": [
    "# Big O notation"
   ]
  },
  {
   "cell_type": "markdown",
   "metadata": {},
   "source": [
    "### Summary\n",
    "\n",
    "> Big O is a notation that describes the increase rate of an algorithm's runtime or space. While academia describes Big oh, omega and theta, the industry seems to have merged them together. This chapter also describes certain simplifications on how we measure our code, such as dropping constants and non-dominant terms.\n",
    "\n",
    "### Let's start with an everyday example\n",
    "\n",
    "Consider a situation where a really large file needs to be shared with someone. Depending on the size of the file, it will be faster to send it via an airplane instead of uploading it to somewhere.\n",
    "\n",
    "This is what the concept of __asymptotic runtime__, or big O time, means. We could describe the data transfer\n",
    "\"algorithm\" runtime as:\n",
    "\n",
    "- Electronic transfers: linear time `O(n)`. In other words, transfer time increases are proportional to the size of the file.\n",
    "\n",
    "- Airplane transfers: constant time `O(1)`. Transfer time will always be the same, regardless of file size.\n",
    "\n",
    "> No matter how big the constant is and how slow the linear increase is, linear will at some point surpass constant.\n",
    "\n",
    "\n",
    "There are many more runtimes than this. Some of the most common are `O(log n)`, `O(n log n)`, `O(n)`, `O(N²)`, and `O(2^n)`. There is not a fixed list of runtimes.\n",
    "\n",
    "Runtimes may also be dependent on more than one variable. E.g.: The time to paint a fence that is `w` meters wide and `h` meters high could be described as `O(wh)`. If `p` layers of paint are nedded, then it could be `O(whp)`.\n",
    "\n",
    "### O, Theta and Omega\n",
    "\n",
    "These are notations used mostly in academia. The industry seems to have merged big O and big theta definitions together when they refer to big O in interviews and such.\n",
    "\n",
    "__Big O: defines an upper bound__\n",
    "\n",
    "When an algorithm is said to be `O(n)`, it is also true, but useless, to say that it is `O(n²)`, Much like a less-than-or-equal-to relationship. E.g.: if someone is `x` years old, we can say `x <= 130`, we can also say `x <= 1000`, but the latter does not really inform us much. We're always looking for the tightest description of a runtime. \n",
    "\n",
    "__Big Omega Ω: defines the lower bound__\n",
    "https://pt.khanacademy.org/computing/computer-science/algorithms/asymptotic-notation/a/big-big-omega-notation\n",
    "\n",
    "__Big Theta Θ: means both O and Ω__\n",
    "\n",
    "### Best, worst, and expected cases\n",
    "\n",
    "They are not equivalent to Big O notation. They describe particular scenarios for a given algorithm.\n",
    "\n",
    "### Space Complexity\n",
    "\n",
    "Not only runtime is measured, so is the amount of space/memory required by an algorithm to run. E.g.: The stack space consumed by a recursive algorithm counts as space complexity.\n",
    "\n",
    "### Drop constants\n",
    "\n",
    "> It's very possible for `O(n)` code to run faster than `O(1)` code for certain inputs. Big O just describes rate of increase.\n",
    "\n",
    "For this reason, we drop constants in runtime. An algorithm that one might have described as `O(2N)` is actually `O(N)`.\n",
    "\n",
    "Sometimes, people use constants to try to reach a more precise description of runtime. Such descriptions may not always be so precise (or useful) as they seem, because they may depend on very specific details of how assembly code is optimized by the compiler. It's important to remember that Big O just describes the rate of increase.\n",
    "\n",
    "__Example 1__\n",
    "\n",
    "```java\n",
    "int min = Integer.MAX_VALUE;\n",
    "int max = Integer.MIN_VALUE;\n",
    "for (int x : array) {\n",
    "    if (x < min) min = x;\n",
    "    if (x > max) max = x;\n",
    "}\n",
    "```\n",
    "\n",
    "__Example 2__\n",
    "\n",
    "```java\n",
    "int min = Integer.MAX_VALUE;\n",
    "int max = Integer.MIN_VALUE;\n",
    "for (int x : array) {\n",
    "    if (x > max) max = x;\n",
    "}\n",
    "\n",
    "for (int x : array) {\n",
    "    if (x > max) max = x;\n",
    "}\n",
    "```"
   ]
  },
  {
   "cell_type": "code",
   "execution_count": null,
   "metadata": {},
   "outputs": [],
   "source": [
    " "
   ]
  }
 ],
 "metadata": {
  "kernelspec": {
   "display_name": "Scala 2.13",
   "language": "scala",
   "name": "scala213"
  },
  "language_info": {
   "codemirror_mode": "text/x-scala",
   "file_extension": ".sc",
   "mimetype": "text/x-scala",
   "name": "scala",
   "nbconvert_exporter": "script",
   "version": "2.13.3"
  }
 },
 "nbformat": 4,
 "nbformat_minor": 4
}
