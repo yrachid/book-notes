{
 "cells": [
  {
   "cell_type": "markdown",
   "metadata": {},
   "source": [
    "## Big O notation"
   ]
  },
  {
   "cell_type": "markdown",
   "metadata": {},
   "source": [
    "Consider a situation where a really large file needs to be shared with someone. Depending on the size of the file, it will be faster to send it via an airplane instead of uploading it to somewhere.\n",
    "\n",
    "This is what the concept of __asymptotic runtime__, or big O time, means. We could describe the data transfer\n",
    "\"algorithm\" runtime as:\n",
    "\n",
    "- Electronic transfers: linear time `O(n)`. In other words, transfer time increases are proportional to the size of the file.\n",
    "\n",
    "- Airplane transfers: constant time `O(1)`. Transfer time will always be the same, regardless of file size.\n",
    "\n",
    "> No matter how big the constant is and how slow the linear increase is, linear will at some point surpass constant.\n",
    "\n",
    "\n",
    "There are many more runtimes than this. Some of the most common are `O(log n)`, `O(n log n)`, `O(n)`, `O(N²)`, and `O(2^n)`. There is not a fixed list of runtimes.\n",
    "\n",
    "Runtimes may also be dependent on more than one variable. E.g.: The time to paint a fence that is `w` meters wide and `h` meters high could be described as `O(wh)`. If `p` layers of paint are nedded, then it could be `O(whp)`."
   ]
  }
 ],
 "metadata": {
  "kernelspec": {
   "display_name": "Scala 2.13",
   "language": "scala",
   "name": "scala213"
  },
  "language_info": {
   "codemirror_mode": "text/x-scala",
   "file_extension": ".sc",
   "mimetype": "text/x-scala",
   "name": "scala",
   "nbconvert_exporter": "script",
   "version": "2.13.3"
  }
 },
 "nbformat": 4,
 "nbformat_minor": 4
}
